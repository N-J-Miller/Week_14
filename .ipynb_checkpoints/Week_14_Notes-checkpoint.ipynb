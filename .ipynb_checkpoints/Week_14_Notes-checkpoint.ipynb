{
 "cells": [
  {
   "cell_type": "markdown",
   "id": "1c1f65bc",
   "metadata": {},
   "source": [
    "# Week 14\n",
    "Multiple Linear Regression and Logistic Regression"
   ]
  },
  {
   "cell_type": "code",
   "execution_count": 1,
   "id": "08d50eb5",
   "metadata": {},
   "outputs": [
    {
     "data": {
      "text/html": [
       "<div>\n",
       "<style scoped>\n",
       "    .dataframe tbody tr th:only-of-type {\n",
       "        vertical-align: middle;\n",
       "    }\n",
       "\n",
       "    .dataframe tbody tr th {\n",
       "        vertical-align: top;\n",
       "    }\n",
       "\n",
       "    .dataframe thead th {\n",
       "        text-align: right;\n",
       "    }\n",
       "</style>\n",
       "<table border=\"1\" class=\"dataframe\">\n",
       "  <thead>\n",
       "    <tr style=\"text-align: right;\">\n",
       "      <th></th>\n",
       "      <th>id</th>\n",
       "      <th>name</th>\n",
       "      <th>host_id</th>\n",
       "      <th>host_name</th>\n",
       "      <th>neighbourhood_group</th>\n",
       "      <th>neighbourhood</th>\n",
       "      <th>latitude</th>\n",
       "      <th>longitude</th>\n",
       "      <th>room_type</th>\n",
       "      <th>price</th>\n",
       "      <th>minimum_nights</th>\n",
       "      <th>number_of_reviews</th>\n",
       "      <th>last_review</th>\n",
       "      <th>reviews_per_month</th>\n",
       "      <th>calculated_host_listings_count</th>\n",
       "      <th>availability_365</th>\n",
       "    </tr>\n",
       "  </thead>\n",
       "  <tbody>\n",
       "    <tr>\n",
       "      <th>0</th>\n",
       "      <td>36666</td>\n",
       "      <td>Mo's Cozy Casa w/ veranda &amp; access to dock</td>\n",
       "      <td>157752</td>\n",
       "      <td>Monique</td>\n",
       "      <td>Belize</td>\n",
       "      <td>Belize Islands</td>\n",
       "      <td>17.74786</td>\n",
       "      <td>-88.02398</td>\n",
       "      <td>Entire home/apt</td>\n",
       "      <td>141</td>\n",
       "      <td>3</td>\n",
       "      <td>250</td>\n",
       "      <td>2/23/2021</td>\n",
       "      <td>2.0</td>\n",
       "      <td>5</td>\n",
       "      <td>225</td>\n",
       "    </tr>\n",
       "  </tbody>\n",
       "</table>\n",
       "</div>"
      ],
      "text/plain": [
       "      id                                        name  host_id host_name  \\\n",
       "0  36666  Mo's Cozy Casa w/ veranda & access to dock   157752   Monique   \n",
       "\n",
       "  neighbourhood_group   neighbourhood  latitude  longitude        room_type  \\\n",
       "0              Belize  Belize Islands  17.74786  -88.02398  Entire home/apt   \n",
       "\n",
       "   price  minimum_nights  number_of_reviews last_review  reviews_per_month  \\\n",
       "0    141               3                250   2/23/2021                2.0   \n",
       "\n",
       "   calculated_host_listings_count  availability_365  \n",
       "0                               5               225  "
      ]
     },
     "execution_count": 1,
     "metadata": {},
     "output_type": "execute_result"
    }
   ],
   "source": [
    "# Dependencies and modules:\n",
    "\n",
    "import pandas as pd\n",
    "import numpy as np\n",
    "import statistics\n",
    "import math\n",
    "from scipy import stats\n",
    "from sklearn.model_selection import train_test_split\n",
    "from sklearn.linear_model import LinearRegression\n",
    "from sklearn.neighbors import KNeighborsClassifier\n",
    "from sklearn.preprocessing import StandardScaler\n",
    "sc = StandardScaler()\n",
    "import requests\n",
    "import time\n",
    "import matplotlib.pyplot as plt\n",
    "import seaborn as sns\n",
    "sns.set_theme(style=\"whitegrid\")\n",
    "from pprint import pprint\n",
    "\n",
    " \n",
    "# Belize AirBnB .csv file:\n",
    "\n",
    "belize_listings_path = \"C:/Users/Nik/Documents/belize_airbnb_listings.csv\"\n",
    "belize_df = pd.read_csv(belize_listings_path)\n",
    "belize_df.head(1)"
   ]
  },
  {
   "cell_type": "markdown",
   "id": "42e3fdaf",
   "metadata": {},
   "source": [
    "# Warm-Up"
   ]
  },
  {
   "cell_type": "markdown",
   "id": "5e5ef7fb",
   "metadata": {},
   "source": [
    "* What is linear regression? What kind of problems can you solve with it?\n",
    "\n",
    "\n",
    "* What is K-nearest neighbor? What kind of problems can you solve with it?\n"
   ]
  },
  {
   "cell_type": "code",
   "execution_count": null,
   "id": "cc34a7b8",
   "metadata": {},
   "outputs": [],
   "source": []
  }
 ],
 "metadata": {
  "kernelspec": {
   "display_name": "Python 3 (ipykernel)",
   "language": "python",
   "name": "python3"
  },
  "language_info": {
   "codemirror_mode": {
    "name": "ipython",
    "version": 3
   },
   "file_extension": ".py",
   "mimetype": "text/x-python",
   "name": "python",
   "nbconvert_exporter": "python",
   "pygments_lexer": "ipython3",
   "version": "3.9.7"
  }
 },
 "nbformat": 4,
 "nbformat_minor": 5
}
